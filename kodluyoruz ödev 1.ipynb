{
 "cells": [
  {
   "cell_type": "markdown",
   "id": "a68f50c1",
   "metadata": {},
   "source": [
    "Ödev-1: Değişkenlere atanmış değerlerin veri tipleri arasında dönüşüm yapılır.\n",
    "\n",
    " z=\"7\" --> integer , x=11 --> string , y=\"38.4\" --> float çevirelim. Çevirdikten sonra veri tipinde yazdıralım."
   ]
  },
  {
   "cell_type": "code",
   "execution_count": 24,
   "id": "c4ba9dbb",
   "metadata": {},
   "outputs": [],
   "source": [
    "z = \"7\""
   ]
  },
  {
   "cell_type": "code",
   "execution_count": 25,
   "id": "a7cef8ee",
   "metadata": {},
   "outputs": [
    {
     "data": {
      "text/plain": [
       "str"
      ]
     },
     "execution_count": 25,
     "metadata": {},
     "output_type": "execute_result"
    }
   ],
   "source": [
    "type(\"z\")"
   ]
  },
  {
   "cell_type": "code",
   "execution_count": 28,
   "id": "7bb1caf8",
   "metadata": {},
   "outputs": [
    {
     "data": {
      "text/plain": [
       "int"
      ]
     },
     "execution_count": 28,
     "metadata": {},
     "output_type": "execute_result"
    }
   ],
   "source": [
    "z = int(z)\n",
    "type(z)"
   ]
  },
  {
   "cell_type": "code",
   "execution_count": 40,
   "id": "f26e8efc",
   "metadata": {},
   "outputs": [],
   "source": [
    "x = 11"
   ]
  },
  {
   "cell_type": "code",
   "execution_count": 41,
   "id": "de181877",
   "metadata": {},
   "outputs": [
    {
     "data": {
      "text/plain": [
       "int"
      ]
     },
     "execution_count": 41,
     "metadata": {},
     "output_type": "execute_result"
    }
   ],
   "source": [
    "type(x)"
   ]
  },
  {
   "cell_type": "code",
   "execution_count": 42,
   "id": "c7e5619b",
   "metadata": {},
   "outputs": [
    {
     "data": {
      "text/plain": [
       "str"
      ]
     },
     "execution_count": 42,
     "metadata": {},
     "output_type": "execute_result"
    }
   ],
   "source": [
    "x = str(x)\n",
    "type(x)"
   ]
  },
  {
   "cell_type": "code",
   "execution_count": 36,
   "id": "551ee9e4",
   "metadata": {},
   "outputs": [],
   "source": [
    "y = \"38.4\""
   ]
  },
  {
   "cell_type": "code",
   "execution_count": 37,
   "id": "261f3e1a",
   "metadata": {},
   "outputs": [
    {
     "data": {
      "text/plain": [
       "str"
      ]
     },
     "execution_count": 37,
     "metadata": {},
     "output_type": "execute_result"
    }
   ],
   "source": [
    "type(y)"
   ]
  },
  {
   "cell_type": "code",
   "execution_count": 39,
   "id": "a9aaf29f",
   "metadata": {},
   "outputs": [
    {
     "data": {
      "text/plain": [
       "float"
      ]
     },
     "execution_count": 39,
     "metadata": {},
     "output_type": "execute_result"
    }
   ],
   "source": [
    "y = float(y)\n",
    "type(y)"
   ]
  },
  {
   "cell_type": "markdown",
   "id": "9884481a",
   "metadata": {},
   "source": [
    "Ödev-2: İsimlerden oluşan üç değişkene yaş değerleri atanır. Belirlenen üç değişken birbiriyle karşılaştırma operatörleri ile karşılaştırılır. Bu karşılaştırmalara mantıksal operatörler de eklenir."
   ]
  },
  {
   "cell_type": "code",
   "execution_count": 43,
   "id": "b4527ee1",
   "metadata": {},
   "outputs": [],
   "source": [
    "emre = 23\n",
    "irem = 21\n",
    "ada = 15"
   ]
  },
  {
   "cell_type": "code",
   "execution_count": 44,
   "id": "3d740eef",
   "metadata": {},
   "outputs": [
    {
     "data": {
      "text/plain": [
       "False"
      ]
     },
     "execution_count": 44,
     "metadata": {},
     "output_type": "execute_result"
    }
   ],
   "source": [
    "emre < irem"
   ]
  },
  {
   "cell_type": "code",
   "execution_count": 45,
   "id": "f9b5a870",
   "metadata": {},
   "outputs": [
    {
     "data": {
      "text/plain": [
       "True"
      ]
     },
     "execution_count": 45,
     "metadata": {},
     "output_type": "execute_result"
    }
   ],
   "source": [
    "irem > ada"
   ]
  },
  {
   "cell_type": "code",
   "execution_count": 46,
   "id": "3073aefc",
   "metadata": {},
   "outputs": [
    {
     "data": {
      "text/plain": [
       "False"
      ]
     },
     "execution_count": 46,
     "metadata": {},
     "output_type": "execute_result"
    }
   ],
   "source": [
    "irem == emre"
   ]
  },
  {
   "cell_type": "code",
   "execution_count": 48,
   "id": "b72b1425",
   "metadata": {},
   "outputs": [
    {
     "data": {
      "text/plain": [
       "False"
      ]
     },
     "execution_count": 48,
     "metadata": {},
     "output_type": "execute_result"
    }
   ],
   "source": [
    "emre > irem and ada > emre"
   ]
  },
  {
   "cell_type": "code",
   "execution_count": 49,
   "id": "787565e6",
   "metadata": {},
   "outputs": [
    {
     "data": {
      "text/plain": [
       "True"
      ]
     },
     "execution_count": 49,
     "metadata": {},
     "output_type": "execute_result"
    }
   ],
   "source": [
    "emre > irem and irem > ada"
   ]
  },
  {
   "cell_type": "code",
   "execution_count": 50,
   "id": "0a8b857d",
   "metadata": {},
   "outputs": [
    {
     "data": {
      "text/plain": [
       "True"
      ]
     },
     "execution_count": 50,
     "metadata": {},
     "output_type": "execute_result"
    }
   ],
   "source": [
    "ada < emre or emre < irem"
   ]
  },
  {
   "cell_type": "code",
   "execution_count": 51,
   "id": "7ce89bae",
   "metadata": {},
   "outputs": [
    {
     "data": {
      "text/plain": [
       "True"
      ]
     },
     "execution_count": 51,
     "metadata": {},
     "output_type": "execute_result"
    }
   ],
   "source": [
    "not(irem > emre)"
   ]
  },
  {
   "cell_type": "markdown",
   "id": "69f3ea27",
   "metadata": {},
   "source": [
    "Ödev-3: Kullanıcıdan iki değer girmesini istenir. Girilen değerlerin toplama, çıkarma, çarpma, bölme sonuçlarını yazdırılır."
   ]
  },
  {
   "cell_type": "code",
   "execution_count": 54,
   "id": "97a5ea3d",
   "metadata": {},
   "outputs": [
    {
     "name": "stdout",
     "output_type": "stream",
     "text": [
      "İlk Sayıyı Giriniz:27\n",
      "İkinci Sayıyı Giriniz:3\n",
      "toplama: 30\n",
      "çıkarma: 24\n",
      "çarpma: 81\n",
      "bölme: 9.0\n"
     ]
    }
   ],
   "source": [
    "sayi1 = int(input(\"İlk Sayıyı Giriniz:\"))\n",
    "sayi2 = int(input(\"İkinci Sayıyı Giriniz:\"))\n",
    "\n",
    "toplama = sayi1 + sayi2\n",
    "çıkarma = sayi1 - sayi2\n",
    "çarpma = sayi1 * sayi2\n",
    "bölme = sayi1 / sayi2\n",
    "\n",
    "print(\"toplama:\",toplama)\n",
    "print(\"çıkarma:\",çıkarma)\n",
    "print(\"çarpma:\",çarpma)\n",
    "print(\"bölme:\",bölme)"
   ]
  },
  {
   "cell_type": "markdown",
   "id": "bfec916b",
   "metadata": {},
   "source": [
    "Ödev-4: Kullanıcıdan isim, yaş, şehir ve meslek bilgilerini istenir ve cevaplarını yazdırılır.\n"
   ]
  },
  {
   "cell_type": "code",
   "execution_count": 55,
   "id": "08ab274a",
   "metadata": {},
   "outputs": [
    {
     "name": "stdout",
     "output_type": "stream",
     "text": [
      "İsminizi Giriniz:irem\n",
      "Yaşınızı Giriniz:21\n",
      "Yaşadığınız Şehri Giriniz:istanbul\n",
      "Mesleğinizi Giriniz:öğrenci\n",
      "İsim: irem\n",
      "Yaş: 21\n",
      "Şehir: istanbul\n",
      "Meslek: öğrenci\n"
     ]
    }
   ],
   "source": [
    "isim = input(\"İsminizi Giriniz:\")\n",
    "yas = input(\"Yaşınızı Giriniz:\")\n",
    "sehir = input(\"Yaşadığınız Şehri Giriniz:\")\n",
    "meslek = input(\"Mesleğinizi Giriniz:\")\n",
    "\n",
    "print(\"İsim:\",isim)\n",
    "print(\"Yaş:\",yas)\n",
    "print(\"Şehir:\",sehir)\n",
    "print(\"Meslek:\",meslek)"
   ]
  },
  {
   "cell_type": "markdown",
   "id": "b1c5b0d1",
   "metadata": {},
   "source": [
    "Ödev-5: \"Hi-Kod Veri Bilimi Atölyesi\" ifadesini bir değişkene tanımlanır.\n",
    "1. İfadedeki her bir kelimeyi (\"Hi-Kod\", \"Veri\", \"Bilimi\", \"Atölyesi\") değişken içinden seçilir. \n",
    "2. İfadeyi hepsini büyük harf olacak hale çevrilir. (\"HI-KOD VERİ BİLİMİ ATÖLYESİ\") \n",
    "3. İfadeyi hepsini küçük harf olacak hale çevrilir.(\"hi-kod veri bilimi atölyesi\")\n",
    " \n",
    " \"0123456789\" ifadesindeki yalnızca çift sayıları ve yalnızca tek sayıları seçilir. (\"02468\", \"13579\")"
   ]
  },
  {
   "cell_type": "code",
   "execution_count": 56,
   "id": "346f2047",
   "metadata": {},
   "outputs": [],
   "source": [
    "atolye = \"Hi-Kod Veri Bilimi Atölyesi\""
   ]
  },
  {
   "cell_type": "code",
   "execution_count": 57,
   "id": "dc1ff895",
   "metadata": {
    "scrolled": true
   },
   "outputs": [
    {
     "name": "stdout",
     "output_type": "stream",
     "text": [
      "Hi-Kod\n"
     ]
    }
   ],
   "source": [
    "print(atolye[0:6])"
   ]
  },
  {
   "cell_type": "code",
   "execution_count": 58,
   "id": "eae6cce5",
   "metadata": {
    "scrolled": true
   },
   "outputs": [
    {
     "name": "stdout",
     "output_type": "stream",
     "text": [
      "Veri\n"
     ]
    }
   ],
   "source": [
    "print(atolye[7:11])"
   ]
  },
  {
   "cell_type": "code",
   "execution_count": 59,
   "id": "97e13dfd",
   "metadata": {},
   "outputs": [
    {
     "name": "stdout",
     "output_type": "stream",
     "text": [
      "Bilimi\n"
     ]
    }
   ],
   "source": [
    "print(atolye[12:18])"
   ]
  },
  {
   "cell_type": "code",
   "execution_count": 60,
   "id": "1abb12f2",
   "metadata": {},
   "outputs": [
    {
     "name": "stdout",
     "output_type": "stream",
     "text": [
      "Atölyesi\n"
     ]
    }
   ],
   "source": [
    "print(atolye[19:28])"
   ]
  },
  {
   "cell_type": "code",
   "execution_count": 61,
   "id": "fd630fa7",
   "metadata": {},
   "outputs": [
    {
     "data": {
      "text/plain": [
       "'HI-KOD VERI BILIMI ATÖLYESI'"
      ]
     },
     "execution_count": 61,
     "metadata": {},
     "output_type": "execute_result"
    }
   ],
   "source": [
    "atolye.upper()"
   ]
  },
  {
   "cell_type": "code",
   "execution_count": 62,
   "id": "0410a0ad",
   "metadata": {},
   "outputs": [
    {
     "data": {
      "text/plain": [
       "'hi-kod veri bilimi atölyesi'"
      ]
     },
     "execution_count": 62,
     "metadata": {},
     "output_type": "execute_result"
    }
   ],
   "source": [
    "atolye.lower()"
   ]
  },
  {
   "cell_type": "code",
   "execution_count": 63,
   "id": "d74ad3d0",
   "metadata": {},
   "outputs": [
    {
     "data": {
      "text/plain": [
       "'02468'"
      ]
     },
     "execution_count": 63,
     "metadata": {},
     "output_type": "execute_result"
    }
   ],
   "source": [
    "sayilar = \"0123456789\"\n",
    "sayilar[0:9:2]"
   ]
  },
  {
   "cell_type": "code",
   "execution_count": 65,
   "id": "8d03b376",
   "metadata": {
    "scrolled": true
   },
   "outputs": [
    {
     "data": {
      "text/plain": [
       "'13579'"
      ]
     },
     "execution_count": 65,
     "metadata": {},
     "output_type": "execute_result"
    }
   ],
   "source": [
    "sayilar[1::2]"
   ]
  }
 ],
 "metadata": {
  "kernelspec": {
   "display_name": "Python 3 (ipykernel)",
   "language": "python",
   "name": "python3"
  },
  "language_info": {
   "codemirror_mode": {
    "name": "ipython",
    "version": 3
   },
   "file_extension": ".py",
   "mimetype": "text/x-python",
   "name": "python",
   "nbconvert_exporter": "python",
   "pygments_lexer": "ipython3",
   "version": "3.11.7"
  }
 },
 "nbformat": 4,
 "nbformat_minor": 5
}

{
 "cells": [
  {
   "cell_type": "markdown",
   "metadata": {},
   "source": [
    "#### Ödev 1\n",
    "Kullanıcıdan pi değeri ve yarıçap bilgisi alarak dairenin alanını hesaplayan bir fonksiyon oluşturulur."
   ]
  },
  {
   "cell_type": "code",
   "execution_count": 12,
   "metadata": {
    "vscode": {
     "languageId": "plaintext"
    }
   },
   "outputs": [],
   "source": [
    "def Dairenin_Alani(): \n",
    "    pi = input(\"Pi Sayısını Giriniz:\")\n",
    "    yari_cap = input(\"Yarıçap Değerini Giriniz:\")\n",
    "    daire_alan = float(pi)* (float(yari_cap)**2)\n",
    "    return(round(daire_alan))"
   ]
  },
  {
   "cell_type": "code",
   "execution_count": 13,
   "metadata": {
    "scrolled": false
   },
   "outputs": [
    {
     "name": "stdout",
     "output_type": "stream",
     "text": [
      "Pi Sayısını Giriniz:3\n",
      "Yarıçap Değerini Giriniz:9\n"
     ]
    },
    {
     "data": {
      "text/plain": [
       "243"
      ]
     },
     "execution_count": 13,
     "metadata": {},
     "output_type": "execute_result"
    }
   ],
   "source": [
    "Dairenin_Alani()"
   ]
  },
  {
   "cell_type": "markdown",
   "metadata": {},
   "source": [
    "#### Ödev 2\n",
    "\n",
    "Faktöriyel adında fonksiyon oluşturulur. Döngü kullanarak parametre olarak girilen sayının faktöriyeli hesaplanır. Format metodunu kullanılarak ekrana yazdırılır."
   ]
  },
  {
   "cell_type": "code",
   "execution_count": 4,
   "metadata": {},
   "outputs": [],
   "source": [
    "def Faktöriyel(parametre):\n",
    "    factorial = 1\n",
    "    k = parametre \n",
    "    while k > 0:\n",
    "        factorial = factorial * k\n",
    "        k = k - 1\n",
    "    return(str(parametre) + \" Sayısının Faktöriyeli {} Sayısıdır.\".format(str(factorial)))"
   ]
  },
  {
   "cell_type": "code",
   "execution_count": 7,
   "metadata": {},
   "outputs": [
    {
     "data": {
      "text/plain": [
       "'7 Sayısının Faktöriyeli 5040 Sayısıdır.'"
      ]
     },
     "execution_count": 7,
     "metadata": {},
     "output_type": "execute_result"
    }
   ],
   "source": [
    "Faktöriyel(7)"
   ]
  },
  {
   "cell_type": "markdown",
   "metadata": {},
   "source": [
    "#### Ödev 3\n",
    "Kişinin fonksiyona doğum yılını vererek kaç yaşında olduğunu hesaplayan bir fonksiyon oluşturun. "
   ]
  },
  {
   "cell_type": "code",
   "execution_count": 46,
   "metadata": {
    "vscode": {
     "languageId": "plaintext"
    }
   },
   "outputs": [],
   "source": [
    "def Yas_Hesapla(doğum_yili):\n",
    "    yas = 2024 - doğum_yili\n",
    "    return yas"
   ]
  },
  {
   "cell_type": "code",
   "execution_count": 47,
   "metadata": {},
   "outputs": [
    {
     "data": {
      "text/plain": [
       "21"
      ]
     },
     "execution_count": 47,
     "metadata": {},
     "output_type": "execute_result"
    }
   ],
   "source": [
    "Yas_Hesapla(2003)"
   ]
  },
  {
   "cell_type": "markdown",
   "metadata": {},
   "source": [
    "#### Ödev 4\n",
    "\n",
    "Doğum yılı ve isim bilgisi verilen fonksiyon kişinin emekli olup olmadığını söylesin.(Kişi 65 yaşında ise emekli olur.) Burada yaş hesabını yukarıdaki örnekteki fonksiyonu kullanarak yapsın.(Yani fonksiyon içinde fonksiyon kullanmanızı istiyorum :)) Kişi 65 yaşında ya da daha fazlaysa \"Emekli oldunuz\" yanıtını, 65 yaşından küçükse emekliliğine kaç yıl kaldığını da hesaplayarak \"(isim) emekliliğine (yıl) kaldı.\" yanıtını versin."
   ]
  },
  {
   "cell_type": "code",
   "execution_count": 56,
   "metadata": {
    "vscode": {
     "languageId": "plaintext"
    }
   },
   "outputs": [],
   "source": [
    "def Emeklilik(doğum_yili, isim):\n",
    "    def Yas_Hesapla(doğum_yili):\n",
    "        yas = 2024 - doğum_yili\n",
    "        return yas\n",
    "    \n",
    "    yas = Yas_Hesapla(doğum_yili)\n",
    "\n",
    "    if yas > 65:\n",
    "        print(\"Emekli Oldunuz!\")\n",
    "    else:\n",
    "        kalan_yil = 65 - yas\n",
    "        print(f\"{isim}, Emekliliğine {kalan_yil} Yıl Kaldı!\") "
   ]
  },
  {
   "cell_type": "code",
   "execution_count": 54,
   "metadata": {
    "scrolled": true
   },
   "outputs": [
    {
     "name": "stdout",
     "output_type": "stream",
     "text": [
      "İrem , Emekliliğine 44 Yıl Kaldı!\n"
     ]
    }
   ],
   "source": [
    "Emeklilik(2003,\"İrem\")"
   ]
  },
  {
   "cell_type": "code",
   "execution_count": 55,
   "metadata": {
    "scrolled": false
   },
   "outputs": [
    {
     "name": "stdout",
     "output_type": "stream",
     "text": [
      "Emekli Oldunuz!\n"
     ]
    }
   ],
   "source": [
    "Emeklilik(1950, \"Emre\")"
   ]
  }
 ],
 "metadata": {
  "kernelspec": {
   "display_name": "Python 3 (ipykernel)",
   "language": "python",
   "name": "python3"
  },
  "language_info": {
   "codemirror_mode": {
    "name": "ipython",
    "version": 3
   },
   "file_extension": ".py",
   "mimetype": "text/x-python",
   "name": "python",
   "nbconvert_exporter": "python",
   "pygments_lexer": "ipython3",
   "version": "3.11.7"
  }
 },
 "nbformat": 4,
 "nbformat_minor": 2
}

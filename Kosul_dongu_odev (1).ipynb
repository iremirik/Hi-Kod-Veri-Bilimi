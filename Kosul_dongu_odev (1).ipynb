{
 "cells": [
  {
   "cell_type": "markdown",
   "id": "409f0f4a",
   "metadata": {},
   "source": [
    "**Ödev-1:** Kullanıcıdan maaş bilgisini istenir ve bu bilgiye göre maaşından ne kadar vergi kesileceğini hesaplanır. Kullanıcının geliri;\n",
    "\n",
    "1. 10000 ve altındaysa maaşından %5 kesinti olur.\n",
    "2. 25000 ve altındaysa maaşından %10 kesinti olur.\n",
    "3. 45000 ve altındaysa maaşından %25 kesinti olur.\n",
    "4. Diğer koşullarda %30 kesinti olur.\n",
    "\n",
    "Bu durumlara göre kullanıcının yeni maaşı yazdırılır."
   ]
  },
  {
   "cell_type": "code",
   "execution_count": 1,
   "id": "5246e510",
   "metadata": {},
   "outputs": [
    {
     "name": "stdout",
     "output_type": "stream",
     "text": [
      "Lütfen maaş bilgisini giriniz:135000\n",
      "Yeni Maaşınız: 94500.0\n"
     ]
    }
   ],
   "source": [
    "maas = int(input(\"Lütfen maaş bilgisini giriniz:\"))\n",
    "  \n",
    "if maas <= 10000:\n",
    "        yeni_maas = maas -  maas*0.05\n",
    "        \n",
    "elif maas <=25000:\n",
    "        yeni_maas = maas -  maas*0.10\n",
    "            \n",
    "elif maas <= 45000:\n",
    "        yeni_maas = maas -  maas*0.25\n",
    "                \n",
    "else:\n",
    "        yeni_maas = maas -  maas*0.30\n",
    "                    \n",
    "print(\"Yeni Maaşınız:\" , yeni_maas)"
   ]
  },
  {
   "cell_type": "markdown",
   "id": "f5fe8798",
   "metadata": {},
   "source": [
    "**Ödev-2:** Kullanıcıdan kullanıcı adı ve şifre oluşturmasını istenir. Şifrenin uzunluğu altı haneye ulaşmışsa hesabınız oluşturuldu mesajı alınır, altı haneden azsa altı haneli şifre oluşturması gerektiğinin mesajı alınır. *(Sadece koşul kullanılması yeterli.)*"
   ]
  },
  {
   "cell_type": "code",
   "execution_count": 2,
   "id": "6acffe57",
   "metadata": {},
   "outputs": [
    {
     "name": "stdout",
     "output_type": "stream",
     "text": [
      "Lütfen Kullanıcı Adınızı Girin: irem\n",
      "Lütfen Şifrenizi Girin: irem123\n",
      "Hesabınız Oluşturuldu!\n"
     ]
    }
   ],
   "source": [
    "kullanici_adi = input(\"Lütfen Kullanıcı Adınızı Girin: \")\n",
    "sifre = input(\"Lütfen Şifrenizi Girin: \")\n",
    "\n",
    "if len(sifre) >= 6:\n",
    "    print(\"Hesabınız Oluşturuldu!\")\n",
    "else:\n",
    "    print(\"Şifreniz En Az Altı Haneli Olmalıdır! Lütfen Altı Haneli Bir Şifre Oluşturun!\")"
   ]
  },
  {
   "cell_type": "markdown",
   "id": "aaccf11a",
   "metadata": {},
   "source": [
    "**Ödev-3:** Bir önceki örnek geliştirilir.\n",
    "\n",
    "1. Kullanıcı girdiği şifre 5 ve 10 hane arasında olmak zorunda.\n",
    "2. Eğer bu koşula uyuyorsa \"Hesabınız oluşturuldu.\" mesajı alır.\n",
    "3. Koşulu sağlamıyorsa \"Lütfen girdiniz şifre 5 haneden az 10 haneden fazla olmasın!\" uyarısı alır.\n",
    "4. Bunu oluştururken kullanıcı istediğimiz şartlarda şifre oluşturana kadar sormaya devam eder"
   ]
  },
  {
   "cell_type": "code",
   "execution_count": 3,
   "id": "039e50dc",
   "metadata": {},
   "outputs": [
    {
     "name": "stdout",
     "output_type": "stream",
     "text": [
      "Lütfen 5 ile 10 Hane Arasında Bir Şifre Belirleyin: iremmmm4567\n",
      "Lütfen Girdiğiniz Şifre 5 Haneden Az, 10 Haneden Fazla Olmasın!\n",
      "Lütfen 5 ile 10 Hane Arasında Bir Şifre Belirleyin: irem123\n",
      "Hesabınız Oluşturuldu.\n"
     ]
    }
   ],
   "source": [
    "while True:\n",
    "    sifre = input(\"Lütfen 5 ile 10 Hane Arasında Bir Şifre Belirleyin: \")\n",
    "    if 5 <= len(sifre) <= 10:\n",
    "        print(\"Hesabınız Oluşturuldu.\")\n",
    "        break\n",
    "    else:\n",
    "        print(\"Lütfen Girdiğiniz Şifre 5 Haneden Az, 10 Haneden Fazla Olmasın!\")"
   ]
  },
  {
   "cell_type": "markdown",
   "id": "8ba81863",
   "metadata": {},
   "source": [
    "**Ödev-4:** Kullanıcıdan isim ve şifre isteyeceğiz ve şifre girişi için üç hak verilir.\n",
    "\n",
    "1. Eğer önceden tanımlı şifre ile kullanıcıdan gelen şifre aynıysa \"Giriş yapıldı.\" yazar.\n",
    "2. Şifre girişi yanlışsa \"Yanlış şifre girildi!\" uyarısı verilsin ve üç yanlış denemede program biter.\n",
    "3. Tercihe göre kalan hak bilgisi verilir."
   ]
  },
  {
   "cell_type": "code",
   "execution_count": 4,
   "id": "8f45ea0c",
   "metadata": {},
   "outputs": [
    {
     "name": "stdout",
     "output_type": "stream",
     "text": [
      "Kullanıcı Adınızı Giriniz: irem\n",
      "Şifrenizi Giriniz: irem123\n",
      "Yanlış Şifre Girildi!\n",
      "Kalan Giriş Hakkınız: 2\n",
      "Kullanıcı Adınızı Giriniz: irem\n",
      "Şifrenizi Giriniz: iremm22\n",
      "Yanlış Şifre Girildi!\n",
      "Kalan Giriş Hakkınız: 1\n",
      "Kullanıcı Adınızı Giriniz: 1\n",
      "Şifrenizi Giriniz: 234\n",
      "Yanlış Şifre Girildi!\n",
      "Giriş Hakkınız Kalmadı!\n"
     ]
    }
   ],
   "source": [
    "tanımlı_kullanıcı = \"irem\"\n",
    "tanımlı_şifre = \"irem345\"\n",
    "\n",
    "haklar = 3\n",
    "\n",
    "while haklar > 0:\n",
    "    isim = input(\"Kullanıcı Adınızı Giriniz: \")\n",
    "    şifre = input(\"Şifrenizi Giriniz: \")\n",
    "    \n",
    "    if isim == tanımlı_kullanıcı and şifre == tanımlı_şifre:\n",
    "        print(\"Giriş Yapıldı!\")\n",
    "        break\n",
    "    else:\n",
    "        haklar -= 1\n",
    "        print(\"Yanlış Şifre Girildi!\")\n",
    "        if haklar > 0:\n",
    "            print(\"Kalan Giriş Hakkınız:\", haklar)\n",
    "        else:\n",
    "            print(\"Giriş Hakkınız Kalmadı!\")"
   ]
  }
 ],
 "metadata": {
  "kernelspec": {
   "display_name": "Python 3 (ipykernel)",
   "language": "python",
   "name": "python3"
  },
  "language_info": {
   "codemirror_mode": {
    "name": "ipython",
    "version": 3
   },
   "file_extension": ".py",
   "mimetype": "text/x-python",
   "name": "python",
   "nbconvert_exporter": "python",
   "pygments_lexer": "ipython3",
   "version": "3.11.7"
  }
 },
 "nbformat": 4,
 "nbformat_minor": 5
}

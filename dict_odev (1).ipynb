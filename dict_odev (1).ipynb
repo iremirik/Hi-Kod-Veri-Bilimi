{
 "cells": [
  {
   "cell_type": "markdown",
   "metadata": {},
   "source": [
    "### Ödev 1\n",
    "\n",
    "Bir sözlük oluşturulur ve bu sözlükte öğrencilerin isimleri ve Matematik, Fizik, Kimya notları tutulur. Kullanıcıdan isim ve ders ismi(Matematik, Fizik, Kimya) istenir ve bu bilgilere göre çıktı verilir."
   ]
  },
  {
   "cell_type": "code",
   "execution_count": 1,
   "metadata": {},
   "outputs": [
    {
     "name": "stdout",
     "output_type": "stream",
     "text": [
      "Ad - Soyad Giriniz: Emre Aksu\n",
      "Ders Adı Giriniz: Matematik\n",
      "70\n"
     ]
    }
   ],
   "source": [
    "ogrenci_isimleri = {\"İrem İrik\":{\"Matematik\":75,\n",
    "                                    \"Fizik\":37,\n",
    "                                    \"Kimya\":45},\n",
    "                     \n",
    "                    \"Emre Aksu\":{\"Matematik\":70,\n",
    "                                    \"Fizik\":60,\n",
    "                                    \"Kimya\":100},\n",
    "                     \n",
    "                    \"Ahmet Öztürk\":{\"Matematik\":98,\n",
    "                                    \"Fizik\":24,\n",
    "                                    \"Kimya\":89},\n",
    "                     \n",
    "                    \"Sena Koyun\":{\"Matematik\":30,\n",
    "                                    \"Fizik\":56,\n",
    "                                    \"Kimya\":12}}\n",
    "isim = input(\"Ad - Soyad Giriniz: \")\n",
    "\n",
    "ders = input(\"Ders Adı Giriniz: \")\n",
    "\n",
    "print(ogrenci_isimleri[isim][ders])"
   ]
  },
  {
   "cell_type": "markdown",
   "metadata": {},
   "source": [
    "### Ödev 2\n",
    "\n",
    "Sözlük üzerinde değerleri değiştirme, yeni değer ekleme, kullanıcıya ulaşmak istediği bilgileri sorma gibi uygulamalar yapın."
   ]
  },
  {
   "cell_type": "code",
   "execution_count": 12,
   "metadata": {},
   "outputs": [],
   "source": [
    "ogrenci_isimleri[\"Selim Kurt\"] = {\"Matematik\":50,\n",
    "                                    \"Fizik\":88,\n",
    "                                    \"Kimya\":16}"
   ]
  },
  {
   "cell_type": "code",
   "execution_count": 13,
   "metadata": {
    "scrolled": true
   },
   "outputs": [
    {
     "data": {
      "text/plain": [
       "{'İrem İrik': {'Matematik': 75, 'Fizik': 37, 'Kimya': 45},\n",
       " 'Emre Aksu': {'Matematik': 70, 'Fizik': 60, 'Kimya': 100},\n",
       " 'Ahmet Öztürk': {'Matematik': 98, 'Fizik': 24, 'Kimya': 89},\n",
       " 'Sena Koyun': {'Matematik': 30, 'Fizik': 56, 'Kimya': 12},\n",
       " 'Selim Kurt': {'Matematik': 50, 'Fizik': 88, 'Kimya': 16}}"
      ]
     },
     "execution_count": 13,
     "metadata": {},
     "output_type": "execute_result"
    }
   ],
   "source": [
    "ogrenci_isimleri"
   ]
  },
  {
   "cell_type": "code",
   "execution_count": 31,
   "metadata": {},
   "outputs": [
    {
     "data": {
      "text/plain": [
       "{'İrem İrik': {'Matematik': 75, 'Fizik': 37, 'Kimya': 45},\n",
       " 'Emre Aksu': {'Matematik': 70, 'Fizik': 60, 'Kimya': 100},\n",
       " 'Ahmet Öztürk': {'Matematik': 44, 'Fizik': 24, 'Kimya': 89},\n",
       " 'Sena Koyun': {'Matematik': 30, 'Fizik': 56, 'Kimya': 12}}"
      ]
     },
     "execution_count": 31,
     "metadata": {},
     "output_type": "execute_result"
    }
   ],
   "source": [
    "ogrenci_isimleri = {\n",
    "    \"İrem İrik\": {\"Matematik\": 75, \"Fizik\": 37, \"Kimya\": 45},\n",
    "    \"Emre Aksu\": {\"Matematik\": 70, \"Fizik\": 60, \"Kimya\": 100},\n",
    "    \"Ahmet Öztürk\": {\"Matematik\": 98, \"Fizik\": 24, \"Kimya\": 89},\n",
    "    \"Sena Koyun\": {\"Matematik\": 30, \"Fizik\": 56, \"Kimya\": 12}\n",
    "}\n",
    "\n",
    "ogrenci_isimleri[\"Ahmet Öztürk\"][\"Matematik\"] = 44\n",
    "ogrenci_isimleri"
   ]
  },
  {
   "cell_type": "code",
   "execution_count": 2,
   "metadata": {
    "scrolled": true
   },
   "outputs": [
    {
     "data": {
      "text/plain": [
       "{'Matematik': 30, 'Fizik': 56, 'Kimya': 12}"
      ]
     },
     "execution_count": 2,
     "metadata": {},
     "output_type": "execute_result"
    }
   ],
   "source": [
    "ogrenci_isimleri[\"Sena Koyun\"]"
   ]
  }
 ],
 "metadata": {
  "kernelspec": {
   "display_name": "Python 3 (ipykernel)",
   "language": "python",
   "name": "python3"
  },
  "language_info": {
   "codemirror_mode": {
    "name": "ipython",
    "version": 3
   },
   "file_extension": ".py",
   "mimetype": "text/x-python",
   "name": "python",
   "nbconvert_exporter": "python",
   "pygments_lexer": "ipython3",
   "version": "3.11.7"
  }
 },
 "nbformat": 4,
 "nbformat_minor": 2
}
